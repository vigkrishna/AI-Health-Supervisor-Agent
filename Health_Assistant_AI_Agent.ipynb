{
 "cells": [
  {
   "cell_type": "markdown",
   "id": "6dbcc3fc",
   "metadata": {},
   "source": [
    "### AI Health Assistant - Supervisor Agent"
   ]
  },
  {
   "cell_type": "markdown",
   "id": "35be5222",
   "metadata": {},
   "source": [
    "\n",
    "A personalized digital wellness coach that feels like a team of specialized experts working together to improve your fitness, nutrition, and mental health."
   ]
  },
  {
   "cell_type": "markdown",
   "id": "222898cd",
   "metadata": {},
   "source": [
    "\n",
    "- **Agents**:\n",
    "    - `Fitness Agent`: Builds a workout plan.\n",
    "    - `Dietician Agent`: Creates healthy meal plans.\n",
    "    - `Mental Health Agent`: Gives basic mindfulness or stress-reducing practices."
   ]
  },
  {
   "cell_type": "markdown",
   "id": "860cd481",
   "metadata": {},
   "source": []
  },
  {
   "cell_type": "code",
   "execution_count": 1,
   "id": "0ef9791c",
   "metadata": {},
   "outputs": [],
   "source": [
    "from langchain_core.messages import HumanMessage,AIMessage\n",
    "from langgraph.prebuilt import create_react_agent\n",
    "from langgraph.graph import StateGraph, MessagesState, START, END\n",
    "from langgraph.checkpoint.memory import MemorySaver\n",
    "from langchain.prompts import PromptTemplate\n",
    "from IPython.display import display, Image\n",
    "from typing import Annotated, Literal\n",
    "from langchain_ollama import ChatOllama\n",
    "\n",
    "from typing_extensions import TypedDict\n",
    "from langchain.tools import tool\n",
    "from langgraph.types import Command\n",
    "import requests\n",
    "import random\n",
    "import uuid\n",
    "import os"
   ]
  },
  {
   "cell_type": "code",
   "execution_count": null,
   "id": "5a5fbdaf",
   "metadata": {},
   "outputs": [],
   "source": []
  },
  {
   "cell_type": "code",
   "execution_count": 2,
   "id": "14f8e003",
   "metadata": {},
   "outputs": [],
   "source": [
    "fitness_api_key = os.getenv(\"EXERCISE_API_KEY\")\n",
    "diet_api_key = os.getenv(\"DIET_API_KEY\")"
   ]
  },
  {
   "cell_type": "markdown",
   "id": "ecf4b834",
   "metadata": {},
   "source": [
    "#### Define State"
   ]
  },
  {
   "cell_type": "code",
   "execution_count": 3,
   "id": "f9345f3f",
   "metadata": {},
   "outputs": [],
   "source": [
    "\n",
    "class State(MessagesState):\n",
    "    next: str"
   ]
  },
  {
   "cell_type": "markdown",
   "id": "18a9fbcc",
   "metadata": {},
   "source": [
    "### Define Tools"
   ]
  },
  {
   "cell_type": "markdown",
   "id": "75cadecd",
   "metadata": {},
   "source": [
    "##### Create Fitness Tool"
   ]
  },
  {
   "cell_type": "code",
   "execution_count": 5,
   "id": "aa5dd5b5",
   "metadata": {},
   "outputs": [],
   "source": [
    "class FitnessData:\n",
    "\n",
    "    def __init__(self):\n",
    "        self.base_url = \"https://api.api-ninjas.com/v1/exercises\"\n",
    "        self.api_key = fitness_api_key\n",
    "       \n",
    "    \n",
    "    def get_muscle_groups_and_types(self):\n",
    "     \n",
    "        muscle_targets = {\n",
    "                'full_body': [\"abdominals\", \"biceps\", \"calves\", \"chest\", \"forearms\", \"glutes\",\n",
    "                    \"hamstrings\", \"lower_back\", \"middle_back\", \"quadriceps\",\n",
    "                    \"traps\", \"triceps\", \"adductors\"\n",
    "                    ],\n",
    "                'upper_body': [\"biceps\", \"chest\", \"forearms\", \"lats\", \"lower_back\", \"middle_back\", \"neck\", \"traps\", \"triceps\" ],\n",
    "                'lower_body': [\"adductors\", \"calves\", \"glutes\", \"hamstrings\", \"quadriceps\"]\n",
    "            }\n",
    "        exercise_types = {'types':[\"powerlifting\",\"strength\", \"stretching\", \"strongman\"]}\n",
    "\n",
    "        return muscle_targets, exercise_types\n",
    "\n",
    "\n",
    "    def fetch_exercises(self, type, muscle, difficulty):\n",
    "        headers = {\n",
    "            'X-Api-Key':self.api_key\n",
    "        }\n",
    "        params= {\n",
    "            'type': type,\n",
    "            'muscle': muscle,\n",
    "            'difficulty': difficulty\n",
    "            }\n",
    "        try:\n",
    "            response = requests.get(self.base_url, headers=headers,params=params)\n",
    "            result = response.json()\n",
    "            if not result:\n",
    "                print(f\"No exercises found for {muscle}\")\n",
    "            return result\n",
    "        except requests.RequestException as e:\n",
    "            print(f\"Request failed: {e}\")\n",
    "            return []\n",
    "        \n",
    "       \n",
    "\n",
    "    def generate_workout_plan(self, query='full_body', difficulty='intermediate'):\n",
    "        output=[]\n",
    "        muscle_targets, exercise_types = self.get_muscle_groups_and_types()\n",
    "        muscle = random.choice(muscle_targets.get(query))\n",
    "        type = random.choice(exercise_types.get('types'))\n",
    "        result = self.fetch_exercises('stretching', muscle, difficulty)\n",
    "        print(result)\n",
    "        limit_plan = result[:3]\n",
    "        for i, data in enumerate(limit_plan):\n",
    "            if data not in output:\n",
    "                output.append(f\"Exercise {i+1}: {data['name']}\")\n",
    "                output.append(f\"Muscle: {data['muscle']}\")\n",
    "                output.append(f\"Instructions: {data['instructions']}\")\n",
    "              \n",
    "        return output\n",
    "            \n",
    "\n",
    "\n",
    "\n"
   ]
  },
  {
   "cell_type": "code",
   "execution_count": 7,
   "id": "248f71d6",
   "metadata": {},
   "outputs": [],
   "source": [
    "@tool\n",
    "def fitness_data_tool(query: Annotated[str, \"This input will either be full_body, upper_body \\\n",
    "                                        or lower_body exercise plan\"]):\n",
    "    \"\"\"use this tool to get fitness or workout plan for a user.\n",
    "    The workout name provided serves as your input  \\\n",
    "                                        \"\"\"\n",
    "    fitness_tool = FitnessData()\n",
    "    result = fitness_tool.generate_workout_plan(query)\n",
    "\n",
    "    return result"
   ]
  },
  {
   "cell_type": "code",
   "execution_count": 6,
   "id": "97d19cec",
   "metadata": {},
   "outputs": [
    {
     "name": "stdout",
     "output_type": "stream",
     "text": [
      "[{'name': 'Tricep Side Stretch', 'type': 'stretching', 'muscle': 'triceps', 'equipment': 'body_only', 'difficulty': 'intermediate', 'instructions': 'Bring right arm across your body and over your left shoulder, holding your elbow with your left hand, until you feel a stretch in your tricep. Then repeat for your other arm.'}, {'name': 'Triceps Stretch', 'type': 'stretching', 'muscle': 'triceps', 'equipment': 'body_only', 'difficulty': 'intermediate', 'instructions': 'Reach your hand behind your head, grasp your elbow and gently pull. Hold for 10 to 20 seconds, then switch sides.'}]\n"
     ]
    },
    {
     "data": {
      "text/plain": [
       "['Exercise 1: Tricep Side Stretch',\n",
       " 'Muscle: triceps',\n",
       " 'Instructions: Bring right arm across your body and over your left shoulder, holding your elbow with your left hand, until you feel a stretch in your tricep. Then repeat for your other arm.',\n",
       " 'Exercise 2: Triceps Stretch',\n",
       " 'Muscle: triceps',\n",
       " 'Instructions: Reach your hand behind your head, grasp your elbow and gently pull. Hold for 10 to 20 seconds, then switch sides.']"
      ]
     },
     "execution_count": 6,
     "metadata": {},
     "output_type": "execute_result"
    }
   ],
   "source": [
    "fitness = FitnessData()\n",
    "fitness.generate_workout_plan(\"full_body\")"
   ]
  },
  {
   "cell_type": "code",
   "execution_count": null,
   "id": "0c6787e1",
   "metadata": {},
   "outputs": [],
   "source": []
  },
  {
   "cell_type": "markdown",
   "id": "b9437af0",
   "metadata": {},
   "source": [
    "### Dietitian Tool"
   ]
  },
  {
   "cell_type": "code",
   "execution_count": 8,
   "id": "d0db9ef9",
   "metadata": {},
   "outputs": [],
   "source": [
    "class Dietitian:\n",
    "\n",
    "    def __init__(self):\n",
    "        self.base_url = \"https://api.spoonacular.com\"\n",
    "        self.api_key = diet_api_key\n",
    "    \n",
    "    def fetch_meal(self, time_frame=\"day\", diet=\"None\"):\n",
    "\n",
    "        url = f\"{self.base_url}/mealplanner/generate\"\n",
    "        params = {\n",
    "            \"timeFrame\":time_frame,\n",
    "            \"diet\": diet,\n",
    "            \"apiKey\":self.api_key\n",
    "        }\n",
    "\n",
    "        response = requests.get(url, params=params)\n",
    "        if not response:\n",
    "            print('Meal Plan not found')\n",
    "        return response.json()\n",
    "    \n",
    "    def get_recipe_information(self, recipe_id):\n",
    "\n",
    "        url = f\"{self.base_url}/recipes/{recipe_id}/information\"\n",
    "        params = {\"apiKey\": self.api_key}\n",
    "        response = requests.get(url, params=params)\n",
    "        if not response:\n",
    "            print(\"Recipe not found\")\n",
    "        return response.json()\n",
    "\n",
    "\n",
    "    def generate_meal_plan(self, query):\n",
    "        meals_processed = []\n",
    "        meal_plan = self.fetch_meal(query)\n",
    "        print(meal_plan)\n",
    "        \n",
    "        meals = meal_plan.get('meals')\n",
    "        nutrients = meal_plan.get('nutrients')\n",
    "\n",
    "        for i, meal in enumerate(meals):\n",
    "            recipe_info = self.get_recipe_information(meal.get('id'))\n",
    "            ingredients = [ingredient['original'] for ingredient in recipe_info.get('extendedIngredients')]\n",
    "\n",
    "            meals_processed.append(f\"🍽️ Meal {i+1}: {meal.get('title')}\")\n",
    "            meals_processed.append(f\"Prep Time: {meal.get('readyInMinutes')}\")\n",
    "            meals_processed.append(f\"Servings: {meal.get('servings')}\")\n",
    "            \n",
    "    \n",
    "            meals_processed.append(\"📝 Ingredients:\\n\" + \"\\n\".join(ingredients))\n",
    "            meals_processed.append(f\"📋 Instructions:\\n {recipe_info.get('instructions')}\")\n",
    "            \n",
    "\n",
    "        \n",
    "        meals_processed.append( \n",
    "        \"\\n🔢 Daily Nutrients:\\n\"\n",
    "        f\"Protein: {nutrients.get('protein', 'N/A')} kcal\\n\"\n",
    "        f\"Fat: {nutrients.get('fat', 'N/A')} g\\n\"\n",
    "        f\"Carbohydrates: {nutrients.get('carbohydrates', 'N/A')} g\"\n",
    "        )\n",
    "\n",
    "\n",
    "        return meals_processed\n",
    "\n",
    "        "
   ]
  },
  {
   "cell_type": "code",
   "execution_count": 17,
   "id": "10533cb3",
   "metadata": {},
   "outputs": [],
   "source": [
    "@tool\n",
    "def diet_tool(query: Annotated[str, \"This input will either be None, vegetarian, and vegan\"]):\n",
    "    \"\"\"use this tool to get diet plan for the user.\n",
    "    The diet type provided serves as your input  \\\n",
    "                                        \"\"\"\n",
    "    dietitian_tool = Dietitian()\n",
    "    result = dietitian_tool.generate_meal_plan(query)\n",
    "\n",
    "    return result"
   ]
  },
  {
   "cell_type": "code",
   "execution_count": 10,
   "id": "f5c616af",
   "metadata": {},
   "outputs": [
    {
     "name": "stdout",
     "output_type": "stream",
     "text": [
      "{'meals': [{'id': 716276, 'image': 'doughnuts-716276.jpg', 'imageType': 'jpg', 'title': 'Doughnuts', 'readyInMinutes': 45, 'servings': 2, 'sourceUrl': 'https://www.afrolems.com/2014/03/25/doughnuts-recipe/'}, {'id': 650119, 'image': 'Linguine-Alla-Carbonara-650119.jpg', 'imageType': 'jpg', 'title': 'Linguine Alla Carbonara', 'readyInMinutes': 30, 'servings': 4, 'sourceUrl': 'https://www.foodista.com/recipe/X4N72XB2/linguine-alla-carbonara'}, {'id': 642121, 'image': 'Easy-Tabouleh-642121.jpg', 'imageType': 'jpg', 'title': 'Easy Tabouleh', 'readyInMinutes': 45, 'servings': 1, 'sourceUrl': 'https://www.foodista.com/recipe/HC6SVFST/easy-tabouleh'}], 'nutrients': {'calories': 1875.31, 'protein': 57.88, 'fat': 71.28, 'carbohydrates': 258.02}}\n"
     ]
    },
    {
     "data": {
      "text/plain": [
       "['🍽️ Meal 1: Doughnuts',\n",
       " 'Prep Time: 45',\n",
       " 'Servings: 2',\n",
       " '📝 Ingredients:\\n1.5 cups of flour\\n30 ml honey\\n1 tablespoon of powdered milk\\n1/2 teaspoon salt\\n150 ml warm water\\n1 teaspoon yeast',\n",
       " '📋 Instructions:\\n In a bowl mix the water with the yeast and honey, whisk and allow to sit for 15 minutes or until the mixture is foamy.Mix the flour with the salt and powdered milk and pour the yeast mixture into the bowl.Knead the dough till its elastic and not sticky and cover and leave to double in size. This could take 1-2 hours.On a lightly floured surface, roll out your dough but not to thin so your doughnuts are not flat and cut the dough into circles. If You have a doughnut cutter use that, if not use a small round shaped cover or bowl to make your circles and a smaller container for the middle hole. You can improvise and use the mouth of a plastic bottle to make the hole in the middle.Leave to rise for another 45 minutes.Heat up your oil and fry the doughnuts till they are brown on both sides.Vanilla GlazeMix 1 cup of powdered sugar with 30 ml of milk and 1 teaspoon of vanilla. Whisk till its properly mixed and drizzle the doughnuts with it. Add sprinkles for garnishingChocolate GlazeI used a chocolate sauce and drizzled over the doughnuts with sprinkles to top it.',\n",
       " '🍽️ Meal 2: Linguine Alla Carbonara',\n",
       " 'Prep Time: 30',\n",
       " 'Servings: 4',\n",
       " '📝 Ingredients:\\n4 strips thick cut bacon, diced\\n1/4 teaspoon Dried Chili Flakes\\n2 Fresh Eggs, room temperature\\n2 Garlic Cloves, diced finely\\nKosher Salt\\n1 pound Linguine (or other long pasta)\\n1 cup Parmesan Cheese, finely grated\\n2 tablespoons Fresh Italian Parsley, chopped\\npepper\\n3 tablespoons Shallots, chopped finely',\n",
       " '📋 Instructions:\\n <ol><li>In a large bowl, whisk together eggs and parmesan cheese. Once combined, mix in parsley. Set bowl aside.</li><li>Add bacon to a large pan and turn burner to medium heat. Slowly saut the bacon until it becomes crispy and the fat has rendered downabout 10 minutes.  While the bacon is browning, begin boiling the linguine in a large pot of salted water. Once bacon is finished, use a slotted spoon and transfer it to a plate covered with paper towels. Reserve one tablespoon of bacon drippings in the pan and discard the rest. Saut shallots in the bacon drippings until translucent. Add garlic and cook for an additional two minutes. Add chili flakes and cook for an additional minute. Transfer shallots/garlic mixture to a bowl.</li><li>Once cooked, drain the hot pasta and quickly toss it in the eggs/cheese mixture until the sauce has thickened. Add all but two tablespoons of the crispy bacon and shallots/garlic mixture. Continue to mix until all items have been thoroughly incorporated. Check for seasonings and adjust with salt and pepper accordingly. Plate the pasta and sprinkle with extra cheese, parsley, and remaining bacon.  Serve immediately.</li><li>Note: It is important to use the freshest eggs possible when making Carbonara. The heat from the hot pasta will warm the eggs but not thoroughly cook it. If you are wary of eggs that are not fully cooked, then Carbonara may not be the dish for you.</li></ol>',\n",
       " '🍽️ Meal 3: Easy Tabouleh',\n",
       " 'Prep Time: 45',\n",
       " 'Servings: 1',\n",
       " '📝 Ingredients:\\n1/2 cup bulgur\\n2 smalls cucumbers\\n1 bunch of flat leaf parsley\\n1/2 lemon juice from a lemon\\n3 tablespoons of olive oil\\nSalt\\n2 medium tomatoes',\n",
       " '📋 Instructions:\\n <ol><li>Chop the vegetables and parsley finely. The restaurant version has the veggies diced fairly small and I wanted to stay true to that.</li><li>Rinse the cracked wheat in a fine mesh sieve and let drain.</li><li>Combine all ingredients in a large bowl.</li></ol>',\n",
       " '\\n🔢 Daily Nutrients:\\nProtein: 57.88 kcal\\nFat: 71.28 g\\nCarbohydrates: 258.02 g']"
      ]
     },
     "execution_count": 10,
     "metadata": {},
     "output_type": "execute_result"
    }
   ],
   "source": [
    "diet = Dietitian()\n",
    "diet.generate_meal_plan(\"vegetarian\")"
   ]
  },
  {
   "cell_type": "code",
   "execution_count": null,
   "id": "9fd78cdd",
   "metadata": {},
   "outputs": [],
   "source": []
  },
  {
   "cell_type": "markdown",
   "id": "14349c7e",
   "metadata": {},
   "source": [
    "### Define LLM and System Prompt"
   ]
  },
  {
   "cell_type": "code",
   "execution_count": 13,
   "id": "03dc48a8",
   "metadata": {},
   "outputs": [],
   "source": [
    "llm = ChatOllama(model=\"qwen2.5:14b\")\n",
    "memory = MemorySaver()"
   ]
  },
  {
   "cell_type": "markdown",
   "id": "adb58912",
   "metadata": {},
   "source": [
    "### Creating the Agent"
   ]
  },
  {
   "cell_type": "markdown",
   "id": "971f4d9d",
   "metadata": {},
   "source": [
    "#### Build Fitness Agent"
   ]
  },
  {
   "cell_type": "code",
   "execution_count": 15,
   "id": "2cf02531",
   "metadata": {},
   "outputs": [],
   "source": [
    "fitness_agent_prompt = \"\"\"\n",
    "You can only answer queries related to workout. \n",
    "\"\"\"\n",
    "\n",
    "\n",
    "fitness_agent = create_react_agent(\n",
    "    llm,\n",
    "    tools = [fitness_data_tool],\n",
    "    prompt = fitness_agent_prompt)\n",
    "\n",
    "\n",
    "def fitness_node(state: State) -> Command[Literal[\"supervisor\"]]:\n",
    "    result = fitness_agent.invoke(state)\n",
    "    return Command(\n",
    "        update={\n",
    "            \"messages\": [\n",
    "                AIMessage(content=result[\"messages\"][-1].content, name=\"fitness\")\n",
    "            ]\n",
    "        },\n",
    "        goto=\"supervisor\",\n",
    "    )\n",
    "\n"
   ]
  },
  {
   "cell_type": "code",
   "execution_count": null,
   "id": "fa6820e9",
   "metadata": {},
   "outputs": [],
   "source": []
  },
  {
   "cell_type": "markdown",
   "id": "695080da",
   "metadata": {},
   "source": [
    "### Build Dietitian Agent"
   ]
  },
  {
   "cell_type": "code",
   "execution_count": 18,
   "id": "dd0ee641",
   "metadata": {},
   "outputs": [],
   "source": [
    "dietitian_system_prompt = \"\"\"\n",
    "You can only answer queries related to diet and meal plans.  .\n",
    "\"\"\"\n",
    "dietitian_agent = create_react_agent(\n",
    "    llm,\n",
    "    tools = [diet_tool],\n",
    "    prompt = dietitian_system_prompt)\n",
    "\n",
    "\n",
    "def dietitian_node(state: State) -> Command[Literal[\"supervisor\"]]:\n",
    "    result = dietitian_agent.invoke(state)\n",
    "    return Command(\n",
    "        update={\n",
    "            \"messages\": [\n",
    "                AIMessage(content=result[\"messages\"][-1].content, name=\"dietitian\")\n",
    "            ]\n",
    "        },\n",
    "        goto=\"supervisor\",\n",
    "    )"
   ]
  },
  {
   "cell_type": "markdown",
   "id": "91c5b491",
   "metadata": {},
   "source": [
    "### Mental Health Agent"
   ]
  },
  {
   "cell_type": "code",
   "execution_count": 19,
   "id": "cc93474f",
   "metadata": {},
   "outputs": [],
   "source": [
    "def mental_health_node(state: State)-> Command[Literal[\"supervisor\"]]:\n",
    "    prompt = PromptTemplate.from_template(\n",
    "        \"\"\"You are a supportive mental wellness coach.\n",
    "        Your task is to:\n",
    "        - Give a unique mental wellness tip or stress-reducing practice.\n",
    "        - Make it simple, kind, and useful. Avoid repeating tips.\"\"\"\n",
    "    )\n",
    "\n",
    "    chain = prompt | llm\n",
    "    response = chain.invoke(state)\n",
    "    return Command(\n",
    "        update={\n",
    "            \"messages\": [\n",
    "                AIMessage(content=f\"Here's your wellness tip: {response.content}\", name=\"wellness\")\n",
    "            ]\n",
    "        },\n",
    "        goto=\"supervisor\",\n",
    "    )"
   ]
  },
  {
   "cell_type": "markdown",
   "id": "808cac15",
   "metadata": {},
   "source": [
    "### Supervisor Agent"
   ]
  },
  {
   "cell_type": "code",
   "execution_count": 20,
   "id": "89144fa1",
   "metadata": {},
   "outputs": [],
   "source": [
    "members = [\"fitness\", \"dietitian\", \"wellness\"]\n",
    "options = members + [\"FINISH\"]\n",
    "\n",
    "\n",
    "\n",
    "system_prompt = (\n",
    "    \"You are a supervisor tasked with managing a conversation between the\"\n",
    "    f\" following workers: {members}. Given the following user request,\"\n",
    "    \" respond with the worker to act next. Each worker will perform a\"\n",
    "    \" task and respond with their results and status. When finished,\"\n",
    "    \" respond with FINISH.\"\n",
    "\n",
    "\n",
    "    \"Guidelines:\\n\"\n",
    "    \"1. Always check the last message in the conversation to determine if the task has been completed.\\n\"\n",
    "    \"2. If you already have the final answer or outcome, return 'FINISH'.\\n\"\n",
    "   \n",
    ")\n",
    "\n",
    "class Router(TypedDict):\n",
    "    \"\"\"Worker to route to next. If no workers needed, route to FINISH.\"\"\"\n",
    "\n",
    "    next: Literal[*options]"
   ]
  },
  {
   "cell_type": "code",
   "execution_count": null,
   "id": "54f74e20",
   "metadata": {},
   "outputs": [],
   "source": []
  },
  {
   "cell_type": "code",
   "execution_count": 21,
   "id": "8db56847",
   "metadata": {},
   "outputs": [],
   "source": [
    "\n",
    "def supervisor_node(state: State)-> Command[Literal[*members, \"__end__\"]]:\n",
    "    messages = [\n",
    "        {\"role\": \"system\", \"content\": system_prompt},\n",
    "    ] + state[\"messages\"]\n",
    "    response = llm.with_structured_output(Router).invoke(messages)\n",
    "    goto = response[\"next\"]\n",
    "    if goto == \"FINISH\":\n",
    "        goto = END\n",
    "\n",
    "    return Command(goto=goto, update={\"next\": goto})"
   ]
  },
  {
   "cell_type": "markdown",
   "id": "45929ace",
   "metadata": {},
   "source": [
    "### Build Supervisor Multi-Agent Graph"
   ]
  },
  {
   "cell_type": "code",
   "execution_count": 25,
   "id": "19343250",
   "metadata": {},
   "outputs": [],
   "source": [
    "\n",
    "builder = StateGraph(State)\n",
    "builder.add_edge(START, \"supervisor\")\n",
    "builder.add_node(\"supervisor\", supervisor_node)\n",
    "builder.add_node(\"fitness\", fitness_node)\n",
    "builder.add_node(\"dietitian\", dietitian_node)\n",
    "builder.add_node(\"wellness\", mental_health_node)\n",
    "graph = builder.compile(checkpointer=memory)"
   ]
  },
  {
   "cell_type": "code",
   "execution_count": 26,
   "id": "af09f437",
   "metadata": {},
   "outputs": [
    {
     "data": {
      "image/png": "[encoded data removed]",
      "text/plain": [
       "<langgraph.graph.state.CompiledStateGraph object at 0x000001FE01489790>"
      ]
     },
     "execution_count": 26,
     "metadata": {},
     "output_type": "execute_result"
    }
   ],
   "source": [
    "graph"
   ]
  },
  {
   "cell_type": "code",
   "execution_count": null,
   "id": "47d843bc",
   "metadata": {},
   "outputs": [],
   "source": []
  },
  {
   "cell_type": "markdown",
   "id": "dd6b0a9e",
   "metadata": {},
   "source": [
    "#### Calling the Agents"
   ]
  },
  {
   "cell_type": "code",
   "execution_count": 27,
   "id": "21176f68",
   "metadata": {},
   "outputs": [],
   "source": [
    "def parse_langgraph_output(stream):\n",
    "    results = []\n",
    "    for key, value in stream.items():\n",
    "        if key == \"supervisor\":\n",
    "            continue\n",
    "        messages = value.get(\"messages\", [])\n",
    "        for msg in messages:\n",
    "            if isinstance(msg, str):\n",
    "                results.append((key, msg))\n",
    "            elif isinstance(msg, AIMessage):\n",
    "                results.append((key, msg.content))\n",
    "    return results"
   ]
  },
  {
   "cell_type": "code",
   "execution_count": null,
   "id": "30cf0978",
   "metadata": {},
   "outputs": [],
   "source": [
    "\"Can you give me a daily routine that includes meals, workouts, and stress relief?\""
   ]
  },
  {
   "cell_type": "code",
   "execution_count": null,
   "id": "183685c8",
   "metadata": {},
   "outputs": [
    {
     "name": "stdout",
     "output_type": "stream",
     "text": [
      "{'supervisor': {'next': 'wellness'}}\n",
      "{'wellness': {'messages': [AIMessage(content='Here\\'s your wellness tip: **Tip:** Practice \"Mindful Moments\" throughout the day.\\n\\nInstead of trying to find large chunks of time for mindfulness, integrate short moments into your daily routine. Take a minute when you pause between tasks or during natural breaks in your schedule. Close your eyes, take three deep breaths, and focus solely on the sensation of breathing. This brief practice helps ground you and can significantly reduce stress throughout the day without feeling overwhelming to fit into a busy schedule.', additional_kwargs={}, response_metadata={}, name='wellness', id='e474b722-ae10-4e96-8f16-5ba14877db48')]}}\n",
      "**Agent :** `wellness`\n",
      "\n",
      "Here's your wellness tip: **Tip:** Practice \"Mindful Moments\" throughout the day.\n",
      "\n",
      "Instead of trying to find large chunks of time for mindfulness, integrate short moments into your daily routine. Take a minute when you pause between tasks or during natural breaks in your schedule. Close your eyes, take three deep breaths, and focus solely on the sensation of breathing. This brief practice helps ground you and can significantly reduce stress throughout the day without feeling overwhelming to fit into a busy schedule.\n",
      "==================================================\n",
      "{'supervisor': {'next': 'dietitian'}}\n"
     ]
    }
   ],
   "source": [
    "# Get the final step in the stream\n",
    "final_event = None\n",
    "config = {\"configurable\": {\"thread_id\": \"1\", \"recursion_limit\": 10}}    \n",
    "inputs = {\n",
    "                \"messages\": [\n",
    "                    HumanMessage(\n",
    "                        content=\"Give me wellness tips for the month?\"\n",
    "                    )\n",
    "                ],\n",
    "            }\n",
    "\n",
    "\n",
    "for step in graph.stream(inputs, config=config):\n",
    "    final_event = step  # Keep updating to the latest step\n",
    "    print(final_event)\n",
    "\n",
    "    response_message=parse_langgraph_output(final_event)\n",
    "    for agent, content in response_message:\n",
    "        print(f\"**Agent :** `{agent}`\\n\\n{content}\")\n",
    "        print(\"=\"*50)\n"
   ]
  },
  {
   "cell_type": "code",
   "execution_count": 22,
   "id": "0c2a09e6",
   "metadata": {},
   "outputs": [],
   "source": [
    "# Can you build a weekly workout routine for beginners?"
   ]
  },
  {
   "cell_type": "code",
   "execution_count": null,
   "id": "337f4a36",
   "metadata": {},
   "outputs": [],
   "source": [
    "#HowcanIstayhealthy?"
   ]
  }
 ],
 "metadata": {
  "kernelspec": {
   "display_name": "Python 3",
   "language": "python",
   "name": "python3"
  },
  "language_info": {
   "codemirror_mode": {
    "name": "ipython",
    "version": 3
   },
   "file_extension": ".py",
   "mimetype": "text/x-python",
   "name": "python",
   "nbconvert_exporter": "python",
   "pygments_lexer": "ipython3",
   "version": "3.11.11"
  }
 },
 "nbformat": 4,
 "nbformat_minor": 5
}
